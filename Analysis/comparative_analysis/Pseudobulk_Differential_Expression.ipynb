{
 "cells": [
  {
   "cell_type": "markdown",
   "metadata": {},
   "source": [
    "# Pseudobulk Differential Expression Analysis \n",
    "\n",
    "Dependencies:\n",
    "Python:\n",
    "    scanpy\n",
    "    pandas\n",
    "R:\n",
    "    DESeq2\n",
    "\n",
    "\n",
    "\n",
    "Results related to Figure 1C, Nyquist et al 2022\n",
    "\n",
    "Generates the contents of Supplemental Dataset 2\n",
    "\n",
    "\n",
    "\n",
    "Overview:\n",
    "\n",
    "1. Data is saved as raw, pseudobulk gene expression counts by celltype and sample\n",
    "2. DESeq2 is run in R to identify marker genes blocking for donor\n",
    "3. DESeq2 results are read back in and filtered based on percent of cells in each group expressing significant differential genes"
   ]
  },
  {
   "cell_type": "code",
   "execution_count": 30,
   "metadata": {},
   "outputs": [],
   "source": [
    "import scanpy as sc\n",
    "import pandas as pd\n",
    "import os\n",
    "import sys\n",
    "sys.path.insert(0,\"../helper_functions\")\n",
    "import pseudobulk_helpers as ph"
   ]
  },
  {
   "cell_type": "code",
   "execution_count": 4,
   "metadata": {},
   "outputs": [
    {
     "name": "stdout",
     "output_type": "stream",
     "text": [
      "Scanpy version 1.7.2\n",
      "Pandas version 1.1.5\n"
     ]
    }
   ],
   "source": [
    "print(\"Scanpy version \" + sc.__version__)\n",
    "print(\"Pandas version \" +pd.__version__)\n"
   ]
  },
  {
   "cell_type": "code",
   "execution_count": 46,
   "metadata": {},
   "outputs": [],
   "source": [
    "pseudobulk_markers_folder = \"../../Results/tables/General_Celltype_Pseudobulk_Marker_Genes/\""
   ]
  },
  {
   "cell_type": "code",
   "execution_count": 6,
   "metadata": {},
   "outputs": [
    {
     "name": "stderr",
     "output_type": "stream",
     "text": [
      "/afs/csail.mit.edu/u/n/nyquist/anaconda3/lib/python3.6/site-packages/anndata/_core/anndata.py:1094: FutureWarning: is_categorical is deprecated and will be removed in a future version.  Use is_categorical_dtype instead\n",
      "  if not is_categorical(df_full[k]):\n"
     ]
    }
   ],
   "source": [
    "# TODO: set this up to download from some cloud storage instead of directly to the objects\n",
    "adata_no_doublets=sc.read_h5ad(\"../../Data/processed_data/all_timepoints/adata_no_doublets_FINAL.h5ad\")\n",
    "adata_raw = sc.read_h5ad(\"../../Data/processed_data/all_timepoints/adata_raw_counts_with_doublets_FINAL.h5ad\")\n",
    "# raw data contains all cells including doublets, so subset to include only non-doublet cells\n",
    "raw_filtered = adata_raw[adata_no_doublets.obs_names]\n"
   ]
  },
  {
   "cell_type": "code",
   "execution_count": 38,
   "metadata": {},
   "outputs": [],
   "source": [
    "# Prepare pseudobulk data\n",
    "\n",
    "processed_meta = adata_no_doublets.obs[['sample','time_post_partum_days', 'time_post_partum_weeks', 'milk_stage', 'donor',\n",
    "                      'infant_sick_YN', 'weaning_YN', 'mastisis_YN', 'breast_soreness_YN', 'directly_breastfeeding_YN', 'any_formula_YN',\n",
    "                      'mother_medications_YN',    'hormonal_birthcontrol_YN', 'daycare_YN', 'vaccines_reported_YN', 'vaccines_list', 'solid_foods_YN', 'reported_infant_medical_events_YN', 'reported_infant_medical_events_description', \n",
    "                      'milk stage ordered',\"simplified celltypes\"]]\n",
    "pseudo_counts = ph.save_pseudobulk_counts(raw_filtered, processed_meta,celltype_col=\"simplified celltypes\")\n",
    "pseudo_counts.to_csv(\"../../Data/processed_data/cell_subset_expression/general_celltype_pseudobulk_counts.csv\")\n",
    "\n",
    "ph.save_metadata_for_pseudobulk_deseq(processed_meta, celltype_col='simplified celltypes',cell_counts=True).to_csv(\"../../Data/processed_data/cell_subset_expression/general_celltype_pseudobulk_metadata.csv\")"
   ]
  },
  {
   "cell_type": "code",
   "execution_count": 43,
   "metadata": {},
   "outputs": [
    {
     "data": {
      "text/plain": [
       "2"
      ]
     },
     "execution_count": 43,
     "metadata": {},
     "output_type": "execute_result"
    }
   ],
   "source": [
    "# call R script which runs pseudobulk differential expression using DESeq2\n",
    "\n",
    "os.system(\"Rscript general_celltype_pseudobulk_differential_expression.R\")\n",
    "# if output is 256, it is an error, to see the error message, run the above command in a terminal window to see error output"
   ]
  },
  {
   "cell_type": "code",
   "execution_count": 50,
   "metadata": {},
   "outputs": [],
   "source": [
    "# calculate pct expression for filtering \n",
    "\n",
    "# this takes a long time to run\n",
    "# this command calculates the percent of cells expressing so we don't have to, but we are not using the actual result to rank_genes_groups (marker genes)\n",
    "sc.tl.rank_genes_groups(adata_no_doublets, groupby=\"simplified celltypes\",pts=True) \n",
    "cluster_order = ['LC2', 'LC1',  'CSN1S1 macrophages','GPMNB macrophages','neutrophils', 'B cells', 'T cells', 'dendritic cells',   'fibroblasts']\n",
    "\n",
    "filtered_degenes = {}\n",
    "\n",
    "for c in cluster_order:\n",
    "    # read in pseudobulk\n",
    "    pseudobulk = pd.read_csv(pseudobulk_markers_folder+\"cluster_\"+c+\"_marker_genes_pseudobulk.csv\",index_col=0)\n",
    "    overlap_genes = list(set(pseudobulk.index).intersection(adata_no_doublets.uns[\"rank_genes_groups\"][\"pts\"].index))\n",
    "    pseudobulk.loc[overlap_genes, \"pts\"] = adata_no_doublets.uns[\"rank_genes_groups\"][\"pts\"].loc[overlap_genes,c]\n",
    "    pseudobulk.loc[overlap_genes, \"pts_rest\"] = adata_no_doublets.uns[\"rank_genes_groups\"][\"pts_rest\"].loc[overlap_genes,c]\n",
    "    pseudobulk[\"pts_difference\"] = pseudobulk[\"pts\"]-pseudobulk[\"pts_rest\"]\n",
    "    \n",
    "    \n",
    "    # filtering happens here:\n",
    "    filtered_degenes[c] = pseudobulk[(pseudobulk[\"padj\"]<0.05)&(pseudobulk[\"pts\"] > .3)&(pseudobulk[\"log2FoldChange\"] > .4)]\n",
    "    \n",
    "    # save results to file\n",
    "    pseudobulk.to_csv(pseudobulk_markers_folder+\"/marker_genes_with_pcts/\"+c.replace(\" \",\"_\").replace(\"/\",\"_\")+\"_pseudobulk_marker_genes.csv\")\n",
    "    filtered_degenes[c].sort_values(\"pts_difference\",ascending=False).to_csv(pseudobulk_markers_folder+\"marker_genes_with_pcts/filtered_\"+c.replace(\" \",\"_\").replace(\"/\",\"_\")+\"_pseudobulk_marker_genes.csv\")\n",
    "    \n",
    "  "
   ]
  },
  {
   "cell_type": "markdown",
   "metadata": {},
   "source": [
    "## Repeat for epithelial cell subclusters"
   ]
  },
  {
   "cell_type": "code",
   "execution_count": 51,
   "metadata": {},
   "outputs": [
    {
     "name": "stderr",
     "output_type": "stream",
     "text": [
      "/afs/csail.mit.edu/u/n/nyquist/anaconda3/lib/python3.6/site-packages/anndata/_core/anndata.py:1094: FutureWarning: is_categorical is deprecated and will be removed in a future version.  Use is_categorical_dtype instead\n",
      "  if not is_categorical(df_full[k]):\n",
      "../helper_functions/pseudobulk_helpers.py:30: SettingWithCopyWarning: \n",
      "A value is trying to be set on a copy of a slice from a DataFrame.\n",
      "Try using .loc[row_indexer,col_indexer] = value instead\n",
      "\n",
      "See the caveats in the documentation: https://pandas.pydata.org/pandas-docs/stable/user_guide/indexing.html#returning-a-view-versus-a-copy\n",
      "  processed_metadata[grp_name] = [processed_metadata.loc[i,celltype_col]+\"_\"+processed_metadata.loc[i,sample_col] for i in processed_metadata.index]\n",
      "../helper_functions/pseudobulk_helpers.py:38: SettingWithCopyWarning: \n",
      "A value is trying to be set on a copy of a slice from a DataFrame.\n",
      "Try using .loc[row_indexer,col_indexer] = value instead\n",
      "\n",
      "See the caveats in the documentation: https://pandas.pydata.org/pandas-docs/stable/user_guide/indexing.html#returning-a-view-versus-a-copy\n",
      "  processed_metadata[c] = processed_metadata[c].astype(str)\n"
     ]
    }
   ],
   "source": [
    "# Prepare pseudobulk data\n",
    "adata_epithelial = adata_no_doublets[adata_no_doublets.obs[\"simplified celltypes\"].isin([\"LC1\",\"LC2\"])]\n",
    "raw_epithelial = adata_raw[adata_epithelial.obs_names]\n",
    "processed_meta = adata_epithelial.obs[['sample','time_post_partum_days', 'time_post_partum_weeks', 'milk_stage', 'donor',\n",
    "                      'infant_sick_YN', 'weaning_YN', 'mastisis_YN', 'breast_soreness_YN', 'directly_breastfeeding_YN', 'any_formula_YN',\n",
    "                      'mother_medications_YN',    'hormonal_birthcontrol_YN', 'daycare_YN', 'vaccines_reported_YN', 'vaccines_list', 'solid_foods_YN', 'reported_infant_medical_events_YN', 'reported_infant_medical_events_description', \n",
    "                      'milk stage ordered',\"Epithelial Cell Subclusters\"]]\n",
    "pseudo_counts = ph.save_pseudobulk_counts(raw_epithelial, processed_meta,celltype_col=\"Epithelial Cell Subclusters\")\n",
    "pseudo_counts.to_csv(\"../../Data/processed_data/cell_subset_expression/epithelial_celltype_pseudobulk_counts.csv\")\n",
    "\n",
    "ph.save_metadata_for_pseudobulk_deseq(processed_meta, celltype_col=\"Epithelial Cell Subclusters\",cell_counts=True).to_csv(\"../../Data/processed_data/cell_subset_expression/epithelial_celltype_pseudobulk_metadata.csv\")"
   ]
  },
  {
   "cell_type": "code",
   "execution_count": null,
   "metadata": {},
   "outputs": [],
   "source": [
    "# call R script which runs pseudobulk differential expression using DESeq2\n",
    "\n",
    "os.system(\"R epithelial_celltype_pseudobulk_differential_expression.R\")"
   ]
  },
  {
   "cell_type": "code",
   "execution_count": 52,
   "metadata": {},
   "outputs": [],
   "source": [
    "epi_pseudobulk_markers_folder = \"../../Results/tables/Epithelial_Celltype_Pseudobulk_Marker_Genes/\""
   ]
  },
  {
   "cell_type": "code",
   "execution_count": 54,
   "metadata": {},
   "outputs": [
    {
     "data": {
      "text/plain": [
       "['Secretory Lactocytes', 'LC1', 'KRT high lactocytes 1', 'Cycling Lactocytes', 'MT High Secretory Lactocytes', 'KRT high lactocytes 2']\n",
       "Categories (6, object): ['Secretory Lactocytes', 'LC1', 'KRT high lactocytes 1', 'Cycling Lactocytes', 'MT High Secretory Lactocytes', 'KRT high lactocytes 2']"
      ]
     },
     "execution_count": 54,
     "metadata": {},
     "output_type": "execute_result"
    }
   ],
   "source": [
    "adata_epithelial.obs[\"Epithelial Cell Subclusters\"].unique()"
   ]
  },
  {
   "cell_type": "code",
   "execution_count": 55,
   "metadata": {},
   "outputs": [],
   "source": [
    "sc.tl.rank_genes_groups(adata_epithelial, groupby=\"Epithelial Cell Subclusters\",pts=True) # this command calculates the percent of cells expressing so we don't have to\n",
    "\n",
    "filtered_degenes = {}\n",
    "\n",
    "for c in adata_epithelial.obs[\"Epithelial Cell Subclusters\"].unique():\n",
    "    # read in pseudobulk\n",
    "    pseudobulk = pd.read_csv(epi_pseudobulk_markers_folder+\"cluster_\"+c+\"_marker_genes_pseudobulk.csv\",index_col=0)\n",
    "    overlap_genes = list(set(pseudobulk.index).intersection(adata_epithelial.uns[\"rank_genes_groups\"][\"pts\"].index))\n",
    "    pseudobulk.loc[overlap_genes, \"pts\"] = adata_epithelial.uns[\"rank_genes_groups\"][\"pts\"].loc[overlap_genes,c]\n",
    "    pseudobulk.loc[overlap_genes, \"pts_rest\"] = adata_epithelial.uns[\"rank_genes_groups\"][\"pts_rest\"].loc[overlap_genes,c]\n",
    "    pseudobulk[\"pts_difference\"] = pseudobulk[\"pts\"]-pseudobulk[\"pts_rest\"]\n",
    "    \n",
    "    \n",
    "    # filtering happens here:\n",
    "    filtered_degenes[c] = pseudobulk[(pseudobulk[\"padj\"]<0.05)&(pseudobulk[\"pts\"] > .3)&(pseudobulk[\"log2FoldChange\"] > .4)]\n",
    "    \n",
    "    # save results to file\n",
    "    pseudobulk.to_csv(epi_pseudobulk_markers_folder+\"marker_genes_with_pcts/\"+c.replace(\" \",\"_\").replace(\"/\",\"_\")+\"_pseudobulk_marker_genes.csv\")\n",
    "    filtered_degenes[c].sort_values(\"pts_difference\",ascending=False).to_csv(epi_pseudobulk_markers_folder+\"marker_genes_with_pcts/filtered_\"+c.replace(\" \",\"_\").replace(\"/\",\"_\")+\"_pseudobulk_marker_genes.csv\")\n",
    "    \n",
    "  "
   ]
  },
  {
   "cell_type": "code",
   "execution_count": null,
   "metadata": {},
   "outputs": [],
   "source": []
  },
  {
   "cell_type": "code",
   "execution_count": 56,
   "metadata": {},
   "outputs": [],
   "source": [
    "epi_pseudobulk_time_varying_folder = \"../../Results/tables/Epithelial_Celltype_Pseudobulk_Time_Varying_Genes/\""
   ]
  },
  {
   "cell_type": "code",
   "execution_count": 57,
   "metadata": {},
   "outputs": [],
   "source": [
    "#Filter Secretory Lactocyte time varying genes\n",
    "\n",
    "des_res_sec = pd.read_csv(epi_pseudobulk_time_varying_folder+\"cluster_Secretory Lactocytes_time_varying_genes_pseudobulk.csv\",index_col=0)\n",
    "celltype = \"Secretory Lactocytes\"\n",
    "des_res_reduced = des_res_sec.loc[des_res_sec[\"padj\"]<.05]\n",
    "des_res_reduced = des_res_reduced.loc[des_res_reduced[\"log2FoldChange\"].abs()>.001]\n",
    "overlap_genes = list(set(des_res_reduced.index).intersection(set(adata_epithelial.uns[\"rank_genes_groups\"][\"pts\"].index)))\n",
    "\n",
    "des_res_reduced = des_res_reduced.loc[overlap_genes]\n",
    "des_res_reduced[\"pts\"] = adata_epithelial.uns[\"rank_genes_groups\"][\"pts\"].loc[des_res_reduced.index,celltype]\n",
    "des_res_reduced = des_res_reduced.loc[des_res_reduced[\"pts\"]>.2]\n",
    "des_res_reduced.to_csv(epi_pseudobulk_time_varying_folder+\"secretory_lactocytes_filtered_time_differential_genes.csv\")"
   ]
  },
  {
   "cell_type": "code",
   "execution_count": 59,
   "metadata": {},
   "outputs": [],
   "source": [
    "\n",
    "# Filter LC1 time varying genes\n",
    "\n",
    "des_res = pd.read_csv(epi_pseudobulk_time_varying_folder+\"cluster_LC1_time_varying_genes_pseudobulk.csv\",index_col=0)\n",
    "celltype = \"LC1\"\n",
    "res_res_reduced_lum = des_res.loc[des_res[\"padj\"]<.05]\n",
    "res_res_reduced_lum = res_res_reduced_lum.loc[res_res_reduced_lum[\"log2FoldChange\"].abs()>.001]\n",
    "overlap_genes = list(set(res_res_reduced_lum.index).intersection(set(adata_epithelial.uns[\"rank_genes_groups\"][\"pts\"].index)))\n",
    "res_res_reduced_lum = res_res_reduced_lum.loc[overlap_genes]\n",
    "res_res_reduced_lum[\"pts\"] = adata_epithelial.uns[\"rank_genes_groups\"][\"pts\"].loc[res_res_reduced_lum.index,celltype]\n",
    "res_res_reduced_lum = res_res_reduced_lum.loc[res_res_reduced_lum[\"pts\"]>.2]\n",
    "\n",
    "res_res_reduced_lum.to_csv(epi_pseudobulk_time_varying_folder+\"LC1_filtered_time_differential_genes.csv\")\n"
   ]
  },
  {
   "cell_type": "code",
   "execution_count": null,
   "metadata": {},
   "outputs": [],
   "source": []
  }
 ],
 "metadata": {
  "kernelspec": {
   "display_name": "Python 3",
   "language": "python",
   "name": "python3"
  },
  "language_info": {
   "codemirror_mode": {
    "name": "ipython",
    "version": 3
   },
   "file_extension": ".py",
   "mimetype": "text/x-python",
   "name": "python",
   "nbconvert_exporter": "python",
   "pygments_lexer": "ipython3",
   "version": "3.6.7"
  }
 },
 "nbformat": 4,
 "nbformat_minor": 4
}
