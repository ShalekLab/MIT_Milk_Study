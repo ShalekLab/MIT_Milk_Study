{
 "cells": [
  {
   "cell_type": "markdown",
   "metadata": {},
   "source": [
    "# Generalized additive models for differential abundance analysis\n",
    "\n",
    "Related to figure 2 of Nyquist et al 2022"
   ]
  },
  {
   "cell_type": "code",
   "execution_count": null,
   "metadata": {
    "collapsed": true
   },
   "outputs": [],
   "source": [
    "library(mgcv)"
   ]
  },
  {
   "cell_type": "markdown",
   "metadata": {},
   "source": [
    "## General Celltypes differential abundance"
   ]
  },
  {
   "cell_type": "code",
   "execution_count": null,
   "metadata": {},
   "outputs": [],
   "source": [
    "major_celltype_props <- read.csv(\"../../Data/celltype_counts/sample_celltype_counts.csv\",row.names=1)\n",
    "metadata_2 <- read.csv(\"../../Data/Supplemental Dataset 1 Metadata_BM_Study.csv\", row.names=1)\n",
    "\n",
    "\n",
    "major_celltype_props[is.na(major_celltype_props)] <- 0\n",
    "major_celltype_props <- t(major_celltype_props)\n",
    "\n",
    "\n",
    "\n",
    "cepi_meta_2 = metadata_2[colnames(major_celltype_props),]\n",
    "cepi_2 <- major_celltype_props[,cepi_meta_2$time_post_partum_days < 400]\n",
    "cepi_meta_2 = metadata_2[colnames(cepi_2),]\n",
    "cepi_meta_2 <- na.omit(cepi_meta_2)\n",
    "cepi_2 <- cepi_2[,rownames(cepi_meta_2)]\n",
    "norm_cepi_2 = t(t(cepi_2)/colSums(cepi_2))\n",
    "\n"
   ]
  },
  {
   "cell_type": "code",
   "execution_count": null,
   "metadata": {},
   "outputs": [],
   "source": [
    "# time association of each celltype for the first 400 days\n",
    "for (c in rownames(norm_cepi_2)){\n",
    "one_celltype=as.data.frame(norm_cepi_2[c,])\n",
    "colnames(one_celltype) = c(\"celltype_prop\")\n",
    "df_in = cbind(one_celltype, cepi_meta_2[,c(\"donor\",\"time_post_partum_days\")])\n",
    "gam_v0 <- gam(celltype_prop ~ donor+s(time_post_partum_days, k=7),\n",
    "             method=\"REML\", data=df_in)\n",
    "print(c)\n",
    "\n",
    "print(summary(gam_v0))\n",
    "}"
   ]
  },
  {
   "cell_type": "code",
   "execution_count": null,
   "metadata": {},
   "outputs": [],
   "source": [
    "# general celltype association with infant sick\n",
    "for (c in rownames(norm_cepi)){\n",
    "one_celltype=as.data.frame(norm_cepi[c,])\n",
    "colnames(one_celltype) = c(\"celltype_prop\")\n",
    "df_in = cbind(one_celltype, cepi_meta[,c(\"donor\",\"infant_sick_YN\")])\n",
    "gam_v0 <- gam(celltype_prop ~ donor+infant_sick_YN,\n",
    "             method=\"REML\", data=df_in)\n",
    "print(c)\n",
    "\n",
    "print(summary(gam_v0))\n",
    "}"
   ]
  },
  {
   "cell_type": "code",
   "execution_count": null,
   "metadata": {},
   "outputs": [],
   "source": [
    "# formula use\n",
    "for (c in rownames(norm_cepi)){\n",
    "one_celltype=as.data.frame(norm_cepi[c,])\n",
    "colnames(one_celltype) = c(\"celltype_prop\")\n",
    "df_in = cbind(one_celltype, cepi_meta[,c(\"donor\",\"any_formula_YN\")])\n",
    "gam_v0 <- gam(celltype_prop ~ donor+any_formula_YN,\n",
    "             method=\"REML\", data=df_in)\n",
    "print(c)\n",
    "\n",
    "print(summary(gam_v0))\n",
    "}"
   ]
  },
  {
   "cell_type": "code",
   "execution_count": null,
   "metadata": {},
   "outputs": [],
   "source": [
    "# daycare\n",
    "for (c in rownames(norm_cepi)){\n",
    "one_celltype=as.data.frame(norm_cepi[c,])\n",
    "colnames(one_celltype) = c(\"celltype_prop\")\n",
    "df_in = cbind(one_celltype, cepi_meta[,c(\"donor\",\"daycare_YN\")])\n",
    "gam_v0 <- gam(celltype_prop ~ donor+daycare_YN,\n",
    "             method=\"REML\", data=df_in)\n",
    "print(c)\n",
    "\n",
    "print(summary(gam_v0))\n",
    "}"
   ]
  },
  {
   "cell_type": "markdown",
   "metadata": {},
   "source": [
    "# Epithelial cell differential abundance"
   ]
  },
  {
   "cell_type": "code",
   "execution_count": null,
   "metadata": {},
   "outputs": [],
   "source": [
    "epi_celltype_props <- read.csv(\"../../Data/epithelial_subcluster_cell_counts.csv\", row.names=1)\n",
    "\n",
    "epi_meta = metadata_2[rownames(epi_celltype_props),]\n",
    "epi <- epi_celltype_props[epi_meta$time_post_partum_days < 400,]\n",
    "epi_meta = metadata_2[rownames(epi),]\n",
    "epi_meta <- na.omit(epi_meta)\n",
    "epi <- epi[rownames(epi_meta),]\n",
    "norm_epi = (epi)/colSums(epi)\n",
    "norm_epi[is.na(norm_epi)] <- 0\n",
    "norm_epi <- t(norm_epi)"
   ]
  },
  {
   "cell_type": "code",
   "execution_count": null,
   "metadata": {},
   "outputs": [],
   "source": [
    "# time association of each epithelial celltype for the first 400 days\n",
    "for (c in rownames(norm_epi)){\n",
    "one_celltype=as.data.frame(norm_epi[c,])\n",
    "    \n",
    "colnames(one_celltype) = c(\"celltype_prop\")\n",
    "df_in = cbind(one_celltype, epi_meta[,c(\"donor\",\"time_post_partum_days\")])\n",
    "gam_v0 <- gam(celltype_prop ~ donor+s(time_post_partum_days, k=7),\n",
    "             method=\"REML\", data=df_in)\n",
    "print(c)\n",
    "\n",
    "print(summary(gam_v0))\n",
    "}"
   ]
  },
  {
   "cell_type": "code",
   "execution_count": null,
   "metadata": {},
   "outputs": [],
   "source": [
    "for (c in rownames(norm_epi)){\n",
    "    df <- norm_epi[,epi_meta[,\"infant_sick_YN\"] != \"na\"]\n",
    "df_meta <- epi_meta[colnames(df),]\n",
    "df_meta[df_meta==\"yes \"] = \"yes\"\n",
    "one_celltype=as.data.frame(df[c,])\n",
    "colnames(one_celltype) = c(\"celltype_prop\")\n",
    "df_in = cbind(one_celltype, df_meta[,c(\"donor\",\"infant_sick_YN\")])\n",
    "gam_v0 <- gam(celltype_prop ~ donor+infant_sick_YN,\n",
    "             method=\"REML\", data=df_in)\n",
    "print(c)\n",
    "\n",
    "print(summary(gam_v0))\n",
    "}"
   ]
  },
  {
   "cell_type": "code",
   "execution_count": null,
   "metadata": {},
   "outputs": [],
   "source": [
    "for (c in rownames(norm_epi)){\n",
    "    df <- norm_epi[,epi_meta[,\"any_formula_YN\"] != \"na\"]\n",
    "df_meta <- epi_meta[colnames(df),]\n",
    "df_meta[df_meta==\"yes \"] = \"yes\"\n",
    "one_celltype=as.data.frame(df[c,])\n",
    "colnames(one_celltype) = c(\"celltype_prop\")\n",
    "df_in = cbind(one_celltype, df_meta[,c(\"donor\",\"any_formula_YN\")])\n",
    "gam_v0 <- gam(celltype_prop ~ donor+any_formula_YN,\n",
    "             method=\"REML\", data=df_in)\n",
    "print(c)\n",
    "\n",
    "print(summary(gam_v0))\n",
    "}"
   ]
  },
  {
   "cell_type": "code",
   "execution_count": null,
   "metadata": {},
   "outputs": [],
   "source": [
    "for (c in rownames(norm_epi)){\n",
    "    df <- norm_epi[,epi_meta[,\"daycare_YN\"] != \"na\"]\n",
    "df_meta <- epi_meta[colnames(df),]\n",
    "df_meta[df_meta==\"yes \"] = \"yes\"\n",
    "one_celltype=as.data.frame(df[c,])\n",
    "colnames(one_celltype) = c(\"celltype_prop\")\n",
    "df_in = cbind(one_celltype, df_meta[,c(\"donor\",\"daycare_YN\")])\n",
    "gam_v0 <- gam(celltype_prop ~ donor+daycare_YN,\n",
    "             method=\"REML\", data=df_in)\n",
    "print(c)\n",
    "\n",
    "print(summary(gam_v0))\n",
    "}"
   ]
  },
  {
   "cell_type": "code",
   "execution_count": null,
   "metadata": {},
   "outputs": [],
   "source": [
    "for (c in rownames(norm_epi)){\n",
    "    df <- norm_epi[,epi_meta[,\"hormonal_birthcontrol_YN\"] != \"na\"]\n",
    "df_meta <- epi_meta[colnames(df),]\n",
    "df_meta[df_meta==\"yes \"] = \"yes\"\n",
    "one_celltype=as.data.frame(df[c,])\n",
    "colnames(one_celltype) = c(\"celltype_prop\")\n",
    "df_in = cbind(one_celltype, df_meta[,c(\"donor\",\"hormonal_birthcontrol_YN\")])\n",
    "gam_v0 <- gam(celltype_prop ~ donor+hormonal_birthcontrol_YN,\n",
    "             method=\"REML\", data=df_in)\n",
    "print(c)\n",
    "\n",
    "print(summary(gam_v0))\n",
    "}"
   ]
  },
  {
   "cell_type": "code",
   "execution_count": null,
   "metadata": {},
   "outputs": [],
   "source": [
    "for (c in rownames(norm_epi)){\n",
    "    df <- norm_epi[,epi_meta[,\"breast_soreness_YN\"] != \"na\"]\n",
    "df_meta <- epi_meta[colnames(df),]\n",
    "df_meta[df_meta==\"yes \"] = \"yes\"\n",
    "one_celltype=as.data.frame(df[c,])\n",
    "colnames(one_celltype) = c(\"celltype_prop\")\n",
    "df_in = cbind(one_celltype, df_meta[,c(\"donor\",\"breast_soreness_YN\")])\n",
    "gam_v0 <- gam(celltype_prop ~ donor+breast_soreness_YN,\n",
    "             method=\"REML\", data=df_in)\n",
    "print(c)\n",
    "\n",
    "print(summary(gam_v0))\n",
    "}"
   ]
  },
  {
   "cell_type": "code",
   "execution_count": null,
   "metadata": {},
   "outputs": [],
   "source": [
    "for (c in rownames(norm_epi)){\n",
    "    df <- norm_epi[,epi_meta[,\"vaccines_reported_YN\"] != \"na\"]\n",
    "df_meta <- epi_meta[colnames(df),]\n",
    "df_meta[df_meta==\"yes \"] = \"yes\"\n",
    "one_celltype=as.data.frame(df[c,])\n",
    "colnames(one_celltype) = c(\"celltype_prop\")\n",
    "df_in = cbind(one_celltype, df_meta[,c(\"donor\",\"vaccines_reported_YN\")])\n",
    "gam_v0 <- gam(celltype_prop ~ donor+vaccines_reported_YN,\n",
    "             method=\"REML\", data=df_in)\n",
    "print(c)\n",
    "\n",
    "print(summary(gam_v0))\n",
    "}"
   ]
  },
  {
   "cell_type": "markdown",
   "metadata": {},
   "source": [
    "# Immune cell differential abundance"
   ]
  },
  {
   "cell_type": "code",
   "execution_count": null,
   "metadata": {},
   "outputs": [],
   "source": [
    "# read in data\n",
    "\n",
    "immune_celltype_props <- t(major_celltype_props[c('B.cells','T.cells','dendritic.cells','eosinophils','macrophages','milk.macrophages','neutrophils'),])\n",
    "immune_meta = metadata_2[rownames(immune_celltype_props),]\n",
    "immune <- immune_celltype_props[immune_meta$time_post_partum_days < 400,]\n",
    "immune_meta = metadata_2[rownames(immune),]\n",
    "immune_meta <- na.omit(immune_meta)\n",
    "immune <- immune[rownames(immune_meta),]\n",
    "norm_immune = (immune)/colSums(immune)\n",
    "norm_immune[is.na(norm_immune)] <- 0\n",
    "norm_immune <- t(norm_immune)\n",
    "\n"
   ]
  },
  {
   "cell_type": "code",
   "execution_count": null,
   "metadata": {},
   "outputs": [],
   "source": [
    "# time association of each immune celltype for the first 400 days\n",
    "for (c in rownames(norm_immune)){\n",
    "one_celltype=as.data.frame(norm_immune[c,])\n",
    "colnames(one_celltype) = c(\"celltype_prop\")\n",
    "    print(c)\n",
    "df_in = cbind(one_celltype, immune_meta[,c(\"donor\",\"time_post_partum_days\")])\n",
    "gam_v0 <- gam(celltype_prop ~ donor+s(time_post_partum_days, k=7),\n",
    "             method=\"REML\", data=df_in)\n",
    "plot.gam(gam_v0,shade=TRUE)\n",
    "\n",
    "print(summary(gam_v0))\n",
    "}\n",
    "\n"
   ]
  },
  {
   "cell_type": "code",
   "execution_count": null,
   "metadata": {},
   "outputs": [],
   "source": [
    "for (c in rownames(norm_immune)){\n",
    "one_celltype=as.data.frame(norm_immune[c,])\n",
    "colnames(one_celltype) = c(\"celltype_prop\")\n",
    "df_in = cbind(one_celltype, immune_meta[,c(\"donor\",\"weaning_YN\",\"time_post_partum_days\")])\n",
    "df_in=df_in[df_in$weaning_YN!='na',]\n",
    "df_in[df_in== \"yes \"] = \"yes\"\n",
    "gam_v0 <- gam(celltype_prop ~ donor+weaning_YN+s(time_post_partum_days, k=7),\n",
    "             method=\"REML\", data=df_in)\n",
    "print(c)\n",
    "\n",
    "print(summary(gam_v0))\n",
    "}\n"
   ]
  },
  {
   "cell_type": "code",
   "execution_count": null,
   "metadata": {},
   "outputs": [],
   "source": [
    "for (c in rownames(norm_immune)){\n",
    "one_celltype=as.data.frame(norm_immune[c,])\n",
    "colnames(one_celltype) = c(\"celltype_prop\")\n",
    "df_in = cbind(one_celltype, immune_meta[,c(\"donor\",\"infant_sick_YN\")])\n",
    "df_in=df_in[df_in$infant_sick_YN!='na',]\n",
    "df_in[df_in== \"yes \"] = \"yes\"\n",
    "gam_v0 <- gam(celltype_prop ~ donor+infant_sick_YN,\n",
    "             method=\"REML\", data=df_in)\n",
    "print(c)\n",
    "\n",
    "print(summary(gam_v0))\n",
    "}"
   ]
  },
  {
   "cell_type": "code",
   "execution_count": null,
   "metadata": {},
   "outputs": [],
   "source": [
    "for (c in rownames(norm_immune)){\n",
    "one_celltype=as.data.frame(norm_immune[c,])\n",
    "colnames(one_celltype) = c(\"celltype_prop\")\n",
    "df_in = cbind(one_celltype, immune_meta[,c(\"donor\",\"any_formula_YN\")])\n",
    "df_in=df_in[df_in$any_formula_YN!='na',]\n",
    "df_in[df_in== \"yes \"] = \"yes\"\n",
    "gam_v0 <- gam(celltype_prop ~ donor+any_formula_YN,\n",
    "             method=\"REML\", data=df_in)\n",
    "print(c)\n",
    "\n",
    "print(summary(gam_v0))\n",
    "}"
   ]
  },
  {
   "cell_type": "code",
   "execution_count": null,
   "metadata": {},
   "outputs": [],
   "source": [
    "for (c in rownames(norm_immune)){\n",
    "one_celltype=as.data.frame(norm_immune[c,])\n",
    "colnames(one_celltype) = c(\"celltype_prop\")\n",
    "df_in = cbind(one_celltype, immune_meta[,c(\"donor\",\"daycare_YN\")])\n",
    "df_in=df_in[df_in$daycare_YN!='na',]\n",
    "df_in[df_in== \"yes \"] = \"yes\"\n",
    "gam_v0 <- gam(celltype_prop ~ donor+daycare_YN,\n",
    "             method=\"REML\", data=df_in)\n",
    "print(c)\n",
    "\n",
    "print(summary(gam_v0))\n",
    "}"
   ]
  },
  {
   "cell_type": "code",
   "execution_count": null,
   "metadata": {},
   "outputs": [],
   "source": [
    "for (c in rownames(norm_immune)){\n",
    "    df <- norm_immune[,immune_meta[,\"hormonal_birthcontrol_YN\"] != \"na\"]\n",
    "df_meta <- immune_meta[colnames(df),]\n",
    "df_meta[df_meta==\"yes \"] = \"yes\"\n",
    "one_celltype=as.data.frame(df[c,])\n",
    "colnames(one_celltype) = c(\"celltype_prop\")\n",
    "df_in = cbind(one_celltype, df_meta[,c(\"donor\",\"hormonal_birthcontrol_YN\")])\n",
    "gam_v0 <- gam(celltype_prop ~ donor+hormonal_birthcontrol_YN,\n",
    "             method=\"REML\", data=df_in)\n",
    "print(c)\n",
    "\n",
    "print(summary(gam_v0))\n",
    "}"
   ]
  },
  {
   "cell_type": "code",
   "execution_count": null,
   "metadata": {},
   "outputs": [],
   "source": [
    "for (c in rownames(norm_immune)){\n",
    "    df <- norm_immune[,immune_meta[,\"breast_soreness_YN\"] != \"na\"]\n",
    "df_meta <- immune_meta[colnames(df),]\n",
    "df_meta[df_meta==\"yes \"] = \"yes\"\n",
    "one_celltype=as.data.frame(df[c,])\n",
    "colnames(one_celltype) = c(\"celltype_prop\")\n",
    "df_in = cbind(one_celltype, df_meta[,c(\"donor\",\"breast_soreness_YN\")])\n",
    "gam_v0 <- gam(celltype_prop ~ donor+breast_soreness_YN,\n",
    "             method=\"REML\", data=df_in)\n",
    "print(c)\n",
    "\n",
    "print(summary(gam_v0))\n",
    "}"
   ]
  },
  {
   "cell_type": "code",
   "execution_count": null,
   "metadata": {},
   "outputs": [],
   "source": [
    "for (c in rownames(norm_immune)){\n",
    "    df <- norm_immune[,immune_meta['vaccines_reported_YN'] != \"na\"]\n",
    "df_meta <- immune_meta[colnames(df),]\n",
    "df_meta[df_meta==\"yes \"] = \"yes\"\n",
    "one_celltype=as.data.frame(df[c,])\n",
    "colnames(one_celltype) = c(\"celltype_prop\")\n",
    "df_in = cbind(one_celltype, df_meta[,c(\"donor\",'vaccines_reported_YN')])\n",
    "gam_v0 <- gam(celltype_prop ~ donor+vaccines_reported_YN,\n",
    "             method=\"REML\", data=df_in)\n",
    "print(c)\n",
    "\n",
    "print(summary(gam_v0))\n",
    "}"
   ]
  }
 ],
 "metadata": {
  "kernelspec": {
   "display_name": "R",
   "language": "R",
   "name": "ir"
  }
 },
 "nbformat": 4,
 "nbformat_minor": 4
}
